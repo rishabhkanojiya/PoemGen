{
 "cells": [
  {
   "cell_type": "code",
   "execution_count": 1,
   "metadata": {},
   "outputs": [
    {
     "name": "stderr",
     "output_type": "stream",
     "text": [
      "C:\\Users\\risha\\Anaconda3\\lib\\site-packages\\h5py\\__init__.py:36: FutureWarning: Conversion of the second argument of issubdtype from `float` to `np.floating` is deprecated. In future, it will be treated as `np.float64 == np.dtype(float).type`.\n",
      "  from ._conv import register_converters as _register_converters\n",
      "Using TensorFlow backend.\n"
     ]
    }
   ],
   "source": [
    "from keras.layers import LSTM,Embedding,Dense,Input\n",
    "from keras.models import  Model\n",
    "from keras.optimizers import Adam,SGD\n",
    "from keras.preprocessing.text import Tokenizer\n",
    "from keras.preprocessing.sequence import pad_sequences"
   ]
  },
  {
   "cell_type": "code",
   "execution_count": 2,
   "metadata": {},
   "outputs": [],
   "source": [
    "import os\n",
    "import sys\n",
    "import string\n",
    "import numpy as np\n",
    "import pandas as pd\n",
    "import matplotlib.pyplot as plt"
   ]
  },
  {
   "cell_type": "code",
   "execution_count": 3,
   "metadata": {},
   "outputs": [],
   "source": [
    "MAX_SEQUENCE_LEN =100\n",
    "MAX_VOCAB_LEN = 3000\n",
    "EMBEDDING_DIM = 50\n",
    "VALIDATION_SPLIT = 0.2\n",
    "EPOCHS = 2000\n",
    "BATCH_SIZE = 128\n",
    "LATENT_DIM = 25"
   ]
  },
  {
   "cell_type": "code",
   "execution_count": 4,
   "metadata": {},
   "outputs": [],
   "source": [
    "input_texts = []\n",
    "target_texts = []\n",
    "for line in open('robert_frost.txt'):\n",
    "    line = line.rstrip()\n",
    "    if not line:\n",
    "        continue\n",
    "\n",
    "    input_line = '<sos> ' + line\n",
    "    target_line = line + ' <eos>'\n",
    "\n",
    "    input_texts.append(input_line)\n",
    "    target_texts.append(target_line)\n",
    "    \n",
    "all_lines = input_texts + target_texts"
   ]
  },
  {
   "cell_type": "code",
   "execution_count": 5,
   "metadata": {},
   "outputs": [],
   "source": [
    "tokenizer = Tokenizer(num_words=MAX_VOCAB_LEN,filters='')\n",
    "tokenizer.fit_on_texts(all_lines)\n",
    "ip_seq = tokenizer.texts_to_sequences(input_texts)\n",
    "op_seq = tokenizer.texts_to_sequences(target_texts)"
   ]
  },
  {
   "cell_type": "code",
   "execution_count": 6,
   "metadata": {},
   "outputs": [],
   "source": [
    "max_seq_len_from_data = max(len(s)for s in ip_seq)"
   ]
  },
  {
   "cell_type": "code",
   "execution_count": 7,
   "metadata": {},
   "outputs": [
    {
     "data": {
      "text/plain": [
       "12"
      ]
     },
     "execution_count": 7,
     "metadata": {},
     "output_type": "execute_result"
    }
   ],
   "source": [
    "max_seq_len_from_data"
   ]
  },
  {
   "cell_type": "code",
   "execution_count": 8,
   "metadata": {},
   "outputs": [],
   "source": [
    "word2idx = tokenizer.word_index"
   ]
  },
  {
   "cell_type": "code",
   "execution_count": 9,
   "metadata": {},
   "outputs": [],
   "source": [
    "assert('<sos>' in word2idx)\n",
    "assert('<eos>' in word2idx)"
   ]
  },
  {
   "cell_type": "code",
   "execution_count": 10,
   "metadata": {},
   "outputs": [
    {
     "data": {
      "text/plain": [
       "3056"
      ]
     },
     "execution_count": 10,
     "metadata": {},
     "output_type": "execute_result"
    }
   ],
   "source": [
    "len(word2idx)"
   ]
  },
  {
   "cell_type": "code",
   "execution_count": 11,
   "metadata": {},
   "outputs": [],
   "source": [
    "max_seq_len = min(max_seq_len_from_data,MAX_SEQUENCE_LEN)"
   ]
  },
  {
   "cell_type": "code",
   "execution_count": 12,
   "metadata": {},
   "outputs": [
    {
     "data": {
      "text/plain": [
       "12"
      ]
     },
     "execution_count": 12,
     "metadata": {},
     "output_type": "execute_result"
    }
   ],
   "source": [
    "max_seq_len"
   ]
  },
  {
   "cell_type": "code",
   "execution_count": 13,
   "metadata": {},
   "outputs": [],
   "source": [
    "ip_seq = pad_sequences(ip_seq,maxlen=max_seq_len,padding='post')\n",
    "op_seq = pad_sequences(ip_seq,maxlen = max_seq_len,padding = 'post')"
   ]
  },
  {
   "cell_type": "code",
   "execution_count": 14,
   "metadata": {},
   "outputs": [
    {
     "name": "stdout",
     "output_type": "stream",
     "text": [
      "Loading word vectors...\n",
      "Found 400000 word vectors.\n"
     ]
    }
   ],
   "source": [
    "print('Loading word vectors...')\n",
    "word2vec = {}\n",
    "with open(os.path.join('../all (1)/large_files/glove.6B/glove.6B.%sd.txt' % EMBEDDING_DIM),encoding=\"utf8\") as f:\n",
    "    for line in f:\n",
    "        values = line.split()\n",
    "        word = values[0]\n",
    "        vec = np.asarray(values[1:], dtype='float32')\n",
    "        word2vec[word] = vec\n",
    "print('Found %s word vectors.' % len(word2vec))\n"
   ]
  },
  {
   "cell_type": "code",
   "execution_count": 15,
   "metadata": {},
   "outputs": [
    {
     "name": "stdout",
     "output_type": "stream",
     "text": [
      "Filling pre-trained embeddings...\n"
     ]
    }
   ],
   "source": [
    "print('Filling pre-trained embeddings...')\n",
    "num_words = min(MAX_VOCAB_LEN, len(word2idx) + 1)\n",
    "embedding_matrix = np.zeros((num_words, EMBEDDING_DIM))\n",
    "for word, i in word2idx.items():\n",
    "    if i < MAX_VOCAB_LEN:\n",
    "        embedding_vector = word2vec.get(word)\n",
    "        if embedding_vector is not None:\n",
    "            # words not found in embedding index will be all zeros.\n",
    "            embedding_matrix[i] = embedding_vector\n"
   ]
  },
  {
   "cell_type": "code",
   "execution_count": 16,
   "metadata": {},
   "outputs": [],
   "source": [
    "one_hot_targets = np.zeros((len(ip_seq), max_seq_len, num_words))\n",
    "for i, op_seq in enumerate(op_seq):\n",
    "    for t, word in enumerate(op_seq):\n",
    "        if word > 0:\n",
    "            one_hot_targets[i, t, word] = 1"
   ]
  },
  {
   "cell_type": "code",
   "execution_count": 17,
   "metadata": {},
   "outputs": [],
   "source": [
    "embd_layer = Embedding(num_words,EMBEDDING_DIM,weights = [embedding_matrix],trainable=False)"
   ]
  },
  {
   "cell_type": "code",
   "execution_count": 18,
   "metadata": {
    "scrolled": true
   },
   "outputs": [
    {
     "name": "stdout",
     "output_type": "stream",
     "text": [
      "Building Model\n"
     ]
    }
   ],
   "source": [
    "print('Building Model')\n",
    "\n",
    "ip_ = Input(shape=(max_seq_len,))\n",
    "init_h = Input(shape=(LATENT_DIM,))\n",
    "init_c = Input(shape=(LATENT_DIM,))\n",
    "x = embd_layer(ip_)\n",
    "lstm = LSTM(LATENT_DIM,return_sequences=True,return_state=True)\n",
    "x,_,_ = lstm(x,initial_state = [init_h,init_c])\n",
    "dense = Dense(num_words,activation='softmax')\n",
    "op = dense(x)"
   ]
  },
  {
   "cell_type": "code",
   "execution_count": 19,
   "metadata": {},
   "outputs": [],
   "source": [
    "model = Model([ip_,init_h,init_c],op)\n",
    "model.compile(loss='categorical_crossentropy',optimizer = Adam(lr=0.01),metrics=['accuracy'])"
   ]
  },
  {
   "cell_type": "code",
   "execution_count": 20,
   "metadata": {},
   "outputs": [
    {
     "name": "stdout",
     "output_type": "stream",
     "text": [
      "Train on 1148 samples, validate on 288 samples\n",
      "Epoch 1/100\n",
      "1148/1148 [==============================] - 12s 11ms/step - loss: 5.3758 - acc: 0.0021 - val_loss: 5.1006 - val_acc: 0.0014\n",
      "Epoch 2/100\n",
      "1148/1148 [==============================] - 9s 8ms/step - loss: 4.7712 - acc: 0.0146 - val_loss: 5.0241 - val_acc: 0.0220\n",
      "Epoch 3/100\n",
      "1148/1148 [==============================] - 9s 8ms/step - loss: 4.5608 - acc: 0.0333 - val_loss: 4.8725 - val_acc: 0.0226\n",
      "Epoch 4/100\n",
      "1148/1148 [==============================] - 9s 8ms/step - loss: 4.4209 - acc: 0.0703 - val_loss: 4.7381 - val_acc: 0.1059\n",
      "Epoch 5/100\n",
      "1148/1148 [==============================] - 9s 8ms/step - loss: 4.3066 - acc: 0.1168 - val_loss: 4.6222 - val_acc: 0.1059\n",
      "Epoch 6/100\n",
      "1148/1148 [==============================] - 9s 8ms/step - loss: 4.2041 - acc: 0.1167 - val_loss: 4.5244 - val_acc: 0.1059\n",
      "Epoch 7/100\n",
      "1148/1148 [==============================] - 9s 8ms/step - loss: 4.0820 - acc: 0.1167 - val_loss: 4.4123 - val_acc: 0.1073\n",
      "Epoch 8/100\n",
      "1148/1148 [==============================] - 9s 8ms/step - loss: 3.9285 - acc: 0.1190 - val_loss: 4.2719 - val_acc: 0.1131\n",
      "Epoch 9/100\n",
      "1148/1148 [==============================] - 9s 8ms/step - loss: 3.7294 - acc: 0.1280 - val_loss: 4.0824 - val_acc: 0.1314\n",
      "Epoch 10/100\n",
      "1148/1148 [==============================] - 9s 8ms/step - loss: 3.4791 - acc: 0.1446 - val_loss: 3.8439 - val_acc: 0.1435\n",
      "Epoch 11/100\n",
      "1148/1148 [==============================] - 9s 8ms/step - loss: 3.2042 - acc: 0.1677 - val_loss: 3.6263 - val_acc: 0.1696\n",
      "Epoch 12/100\n",
      "1148/1148 [==============================] - 9s 8ms/step - loss: 2.9703 - acc: 0.2048 - val_loss: 3.4614 - val_acc: 0.1991\n",
      "Epoch 13/100\n",
      "1148/1148 [==============================] - 9s 8ms/step - loss: 2.7724 - acc: 0.2483 - val_loss: 3.3226 - val_acc: 0.2329\n",
      "Epoch 14/100\n",
      "1148/1148 [==============================] - 9s 7ms/step - loss: 2.5903 - acc: 0.2837 - val_loss: 3.1999 - val_acc: 0.2624\n",
      "Epoch 15/100\n",
      "1148/1148 [==============================] - 8s 7ms/step - loss: 2.4221 - acc: 0.3153 - val_loss: 3.0955 - val_acc: 0.2873\n",
      "Epoch 16/100\n",
      "1148/1148 [==============================] - 9s 7ms/step - loss: 2.2714 - acc: 0.3437 - val_loss: 3.0020 - val_acc: 0.3102\n",
      "Epoch 17/100\n",
      "1148/1148 [==============================] - 8s 7ms/step - loss: 2.1315 - acc: 0.3711 - val_loss: 2.9208 - val_acc: 0.3411\n",
      "Epoch 18/100\n",
      "1148/1148 [==============================] - 8s 7ms/step - loss: 2.0057 - acc: 0.3908 - val_loss: 2.8471 - val_acc: 0.3547\n",
      "Epoch 19/100\n",
      "1148/1148 [==============================] - 8s 7ms/step - loss: 1.8912 - acc: 0.4061 - val_loss: 2.7856 - val_acc: 0.3698\n",
      "Epoch 20/100\n",
      "1148/1148 [==============================] - 9s 7ms/step - loss: 1.7859 - acc: 0.4244 - val_loss: 2.7293 - val_acc: 0.3903\n",
      "Epoch 21/100\n",
      "1148/1148 [==============================] - 8s 7ms/step - loss: 1.6913 - acc: 0.4398 - val_loss: 2.6856 - val_acc: 0.4022\n",
      "Epoch 22/100\n",
      "1148/1148 [==============================] - 8s 7ms/step - loss: 1.6031 - acc: 0.4525 - val_loss: 2.6459 - val_acc: 0.4115\n",
      "Epoch 23/100\n",
      "1148/1148 [==============================] - 9s 8ms/step - loss: 1.5235 - acc: 0.4644 - val_loss: 2.6129 - val_acc: 0.4207\n",
      "Epoch 24/100\n",
      "1148/1148 [==============================] - 9s 8ms/step - loss: 1.4500 - acc: 0.4765 - val_loss: 2.5813 - val_acc: 0.4280\n",
      "Epoch 25/100\n",
      "1148/1148 [==============================] - 9s 7ms/step - loss: 1.3825 - acc: 0.4858 - val_loss: 2.5566 - val_acc: 0.4369\n",
      "Epoch 26/100\n",
      "1148/1148 [==============================] - 8s 7ms/step - loss: 1.3202 - acc: 0.4951 - val_loss: 2.5382 - val_acc: 0.4416\n",
      "Epoch 27/100\n",
      "1148/1148 [==============================] - 9s 8ms/step - loss: 1.2618 - acc: 0.5034 - val_loss: 2.5204 - val_acc: 0.4479\n",
      "Epoch 28/100\n",
      "1148/1148 [==============================] - 8s 7ms/step - loss: 1.2068 - acc: 0.5116 - val_loss: 2.5055 - val_acc: 0.4505\n",
      "Epoch 29/100\n",
      "1148/1148 [==============================] - 8s 7ms/step - loss: 1.1561 - acc: 0.5202 - val_loss: 2.4922 - val_acc: 0.4543\n",
      "Epoch 30/100\n",
      "1148/1148 [==============================] - 8s 7ms/step - loss: 1.1084 - acc: 0.5282 - val_loss: 2.4792 - val_acc: 0.4563\n",
      "Epoch 31/100\n",
      "1148/1148 [==============================] - 8s 7ms/step - loss: 1.0629 - acc: 0.5371 - val_loss: 2.4760 - val_acc: 0.4615\n",
      "Epoch 32/100\n",
      "1148/1148 [==============================] - 8s 7ms/step - loss: 1.0215 - acc: 0.5449 - val_loss: 2.4682 - val_acc: 0.4641\n",
      "Epoch 33/100\n",
      "1148/1148 [==============================] - 8s 7ms/step - loss: 0.9810 - acc: 0.5520 - val_loss: 2.4637 - val_acc: 0.4667\n",
      "Epoch 34/100\n",
      "1148/1148 [==============================] - 8s 7ms/step - loss: 0.9433 - acc: 0.5598 - val_loss: 2.4589 - val_acc: 0.4679\n",
      "Epoch 35/100\n",
      "1148/1148 [==============================] - 8s 7ms/step - loss: 0.9083 - acc: 0.5666 - val_loss: 2.4562 - val_acc: 0.4711\n",
      "Epoch 36/100\n",
      "1148/1148 [==============================] - 10s 9ms/step - loss: 0.8752 - acc: 0.5724 - val_loss: 2.4527 - val_acc: 0.4716\n",
      "Epoch 37/100\n",
      "1148/1148 [==============================] - 8s 7ms/step - loss: 0.8446 - acc: 0.5778 - val_loss: 2.4511 - val_acc: 0.4754\n",
      "Epoch 38/100\n",
      "1148/1148 [==============================] - 8s 7ms/step - loss: 0.8151 - acc: 0.5825 - val_loss: 2.4500 - val_acc: 0.4769\n",
      "Epoch 39/100\n",
      "1148/1148 [==============================] - 8s 7ms/step - loss: 0.7874 - acc: 0.5861 - val_loss: 2.4486 - val_acc: 0.4789\n",
      "Epoch 40/100\n",
      "1148/1148 [==============================] - 8s 7ms/step - loss: 0.7610 - acc: 0.5902 - val_loss: 2.4518 - val_acc: 0.4795\n",
      "Epoch 41/100\n",
      "1148/1148 [==============================] - 8s 7ms/step - loss: 0.7361 - acc: 0.5938 - val_loss: 2.4499 - val_acc: 0.4803\n",
      "Epoch 42/100\n",
      "1148/1148 [==============================] - 8s 7ms/step - loss: 0.7132 - acc: 0.5968 - val_loss: 2.4534 - val_acc: 0.4829\n",
      "Epoch 43/100\n",
      "1148/1148 [==============================] - 9s 8ms/step - loss: 0.6910 - acc: 0.5997 - val_loss: 2.4545 - val_acc: 0.4852\n",
      "Epoch 44/100\n",
      "1148/1148 [==============================] - 8s 7ms/step - loss: 0.6704 - acc: 0.6020 - val_loss: 2.4563 - val_acc: 0.4841\n",
      "Epoch 45/100\n",
      "1148/1148 [==============================] - 8s 7ms/step - loss: 0.6509 - acc: 0.6042 - val_loss: 2.4589 - val_acc: 0.4861\n",
      "Epoch 46/100\n",
      "1148/1148 [==============================] - 9s 8ms/step - loss: 0.6332 - acc: 0.6065 - val_loss: 2.4623 - val_acc: 0.4884\n",
      "Epoch 47/100\n",
      "1148/1148 [==============================] - 9s 7ms/step - loss: 0.6163 - acc: 0.6087 - val_loss: 2.4651 - val_acc: 0.4890\n",
      "Epoch 48/100\n",
      "1148/1148 [==============================] - 8s 7ms/step - loss: 0.6001 - acc: 0.6112 - val_loss: 2.4697 - val_acc: 0.4905\n",
      "Epoch 49/100\n",
      "1148/1148 [==============================] - 8s 7ms/step - loss: 0.5846 - acc: 0.6135 - val_loss: 2.4706 - val_acc: 0.4910\n",
      "Epoch 50/100\n",
      "1148/1148 [==============================] - 8s 7ms/step - loss: 0.5707 - acc: 0.6146 - val_loss: 2.4766 - val_acc: 0.4919\n",
      "Epoch 51/100\n",
      "1148/1148 [==============================] - 8s 7ms/step - loss: 0.5570 - acc: 0.6165 - val_loss: 2.4801 - val_acc: 0.4913\n",
      "Epoch 52/100\n",
      "1148/1148 [==============================] - 8s 7ms/step - loss: 0.5437 - acc: 0.6175 - val_loss: 2.4865 - val_acc: 0.4925\n",
      "Epoch 53/100\n",
      "1148/1148 [==============================] - 8s 7ms/step - loss: 0.5307 - acc: 0.6195 - val_loss: 2.4908 - val_acc: 0.4916\n",
      "Epoch 54/100\n",
      "1148/1148 [==============================] - 10s 9ms/step - loss: 0.5189 - acc: 0.6216 - val_loss: 2.4945 - val_acc: 0.4913\n",
      "Epoch 55/100\n",
      "1148/1148 [==============================] - 9s 8ms/step - loss: 0.5075 - acc: 0.6236 - val_loss: 2.4988 - val_acc: 0.4925\n",
      "Epoch 56/100\n",
      "1148/1148 [==============================] - 9s 8ms/step - loss: 0.4966 - acc: 0.6246 - val_loss: 2.5016 - val_acc: 0.4928\n",
      "Epoch 57/100\n",
      "1148/1148 [==============================] - 8s 7ms/step - loss: 0.4862 - acc: 0.6262 - val_loss: 2.5068 - val_acc: 0.4913\n",
      "Epoch 58/100\n",
      "1148/1148 [==============================] - 9s 8ms/step - loss: 0.4761 - acc: 0.6273 - val_loss: 2.5114 - val_acc: 0.4922\n",
      "Epoch 59/100\n",
      "1148/1148 [==============================] - 9s 7ms/step - loss: 0.4666 - acc: 0.6299 - val_loss: 2.5145 - val_acc: 0.4933\n",
      "Epoch 60/100\n",
      "1148/1148 [==============================] - 9s 8ms/step - loss: 0.4572 - acc: 0.6311 - val_loss: 2.5227 - val_acc: 0.4922\n"
     ]
    },
    {
     "name": "stdout",
     "output_type": "stream",
     "text": [
      "Epoch 61/100\n",
      "1148/1148 [==============================] - 9s 7ms/step - loss: 0.4485 - acc: 0.6307 - val_loss: 2.5262 - val_acc: 0.4925\n",
      "Epoch 62/100\n",
      "1148/1148 [==============================] - 10s 8ms/step - loss: 0.4402 - acc: 0.6331 - val_loss: 2.5278 - val_acc: 0.4925\n",
      "Epoch 63/100\n",
      "1148/1148 [==============================] - 9s 7ms/step - loss: 0.4325 - acc: 0.6340 - val_loss: 2.5324 - val_acc: 0.4945\n",
      "Epoch 64/100\n",
      "1148/1148 [==============================] - 8s 7ms/step - loss: 0.4245 - acc: 0.6337 - val_loss: 2.5387 - val_acc: 0.4931\n",
      "Epoch 65/100\n",
      "1148/1148 [==============================] - 8s 7ms/step - loss: 0.4165 - acc: 0.6352 - val_loss: 2.5456 - val_acc: 0.4931\n",
      "Epoch 66/100\n",
      "1148/1148 [==============================] - 8s 7ms/step - loss: 0.4090 - acc: 0.6370 - val_loss: 2.5501 - val_acc: 0.4919\n",
      "Epoch 67/100\n",
      "1148/1148 [==============================] - 8s 7ms/step - loss: 0.4016 - acc: 0.6373 - val_loss: 2.5545 - val_acc: 0.4931\n",
      "Epoch 68/100\n",
      "1148/1148 [==============================] - 8s 7ms/step - loss: 0.3946 - acc: 0.6394 - val_loss: 2.5571 - val_acc: 0.4931\n",
      "Epoch 69/100\n",
      "1148/1148 [==============================] - 8s 7ms/step - loss: 0.3881 - acc: 0.6397 - val_loss: 2.5634 - val_acc: 0.4939\n",
      "Epoch 70/100\n",
      "1148/1148 [==============================] - 8s 7ms/step - loss: 0.3817 - acc: 0.6412 - val_loss: 2.5654 - val_acc: 0.4933\n",
      "Epoch 71/100\n",
      "1148/1148 [==============================] - 8s 7ms/step - loss: 0.3753 - acc: 0.6418 - val_loss: 2.5727 - val_acc: 0.4936\n",
      "Epoch 72/100\n",
      "1148/1148 [==============================] - 9s 8ms/step - loss: 0.3694 - acc: 0.6425 - val_loss: 2.5748 - val_acc: 0.4942\n",
      "Epoch 73/100\n",
      "1148/1148 [==============================] - 9s 8ms/step - loss: 0.3638 - acc: 0.6431 - val_loss: 2.5820 - val_acc: 0.4933\n",
      "Epoch 74/100\n",
      "1148/1148 [==============================] - 9s 8ms/step - loss: 0.3583 - acc: 0.6443 - val_loss: 2.5851 - val_acc: 0.4933\n",
      "Epoch 75/100\n",
      "1148/1148 [==============================] - 10s 9ms/step - loss: 0.3523 - acc: 0.6447 - val_loss: 2.5902 - val_acc: 0.4951\n",
      "Epoch 76/100\n",
      "1148/1148 [==============================] - 11s 9ms/step - loss: 0.3469 - acc: 0.6463 - val_loss: 2.5942 - val_acc: 0.4942\n",
      "Epoch 77/100\n",
      "1148/1148 [==============================] - 10s 9ms/step - loss: 0.3420 - acc: 0.6461 - val_loss: 2.5978 - val_acc: 0.4936\n",
      "Epoch 78/100\n",
      "1148/1148 [==============================] - 10s 9ms/step - loss: 0.3367 - acc: 0.6463 - val_loss: 2.6008 - val_acc: 0.4945\n",
      "Epoch 79/100\n",
      "1148/1148 [==============================] - 10s 9ms/step - loss: 0.3317 - acc: 0.6476 - val_loss: 2.6051 - val_acc: 0.4939\n",
      "Epoch 80/100\n",
      "1148/1148 [==============================] - 10s 8ms/step - loss: 0.3271 - acc: 0.6492 - val_loss: 2.6111 - val_acc: 0.4939\n",
      "Epoch 81/100\n",
      "1148/1148 [==============================] - 10s 9ms/step - loss: 0.3231 - acc: 0.6493 - val_loss: 2.6109 - val_acc: 0.4945\n",
      "Epoch 82/100\n",
      "1148/1148 [==============================] - 9s 8ms/step - loss: 0.3183 - acc: 0.6489 - val_loss: 2.6145 - val_acc: 0.4948\n",
      "Epoch 83/100\n",
      "1148/1148 [==============================] - 9s 7ms/step - loss: 0.3138 - acc: 0.6505 - val_loss: 2.6208 - val_acc: 0.4957\n",
      "Epoch 84/100\n",
      "1148/1148 [==============================] - 9s 8ms/step - loss: 0.3094 - acc: 0.6511 - val_loss: 2.6223 - val_acc: 0.4954\n",
      "Epoch 85/100\n",
      "1148/1148 [==============================] - 8s 7ms/step - loss: 0.3052 - acc: 0.6508 - val_loss: 2.6223 - val_acc: 0.4948\n",
      "Epoch 86/100\n",
      "1148/1148 [==============================] - 9s 7ms/step - loss: 0.3006 - acc: 0.6514 - val_loss: 2.6294 - val_acc: 0.4945\n",
      "Epoch 87/100\n",
      "1148/1148 [==============================] - 9s 7ms/step - loss: 0.2963 - acc: 0.6536 - val_loss: 2.6325 - val_acc: 0.4945\n",
      "Epoch 88/100\n",
      "1148/1148 [==============================] - 9s 8ms/step - loss: 0.2931 - acc: 0.6532 - val_loss: 2.6340 - val_acc: 0.4957\n",
      "Epoch 89/100\n",
      "1148/1148 [==============================] - 9s 8ms/step - loss: 0.2896 - acc: 0.6531 - val_loss: 2.6359 - val_acc: 0.4957\n",
      "Epoch 90/100\n",
      "1148/1148 [==============================] - 9s 8ms/step - loss: 0.2853 - acc: 0.6545 - val_loss: 2.6399 - val_acc: 0.4942\n",
      "Epoch 91/100\n",
      "1148/1148 [==============================] - 10s 8ms/step - loss: 0.2819 - acc: 0.6543 - val_loss: 2.6443 - val_acc: 0.4951\n",
      "Epoch 92/100\n",
      "1148/1148 [==============================] - 9s 8ms/step - loss: 0.2794 - acc: 0.6549 - val_loss: 2.6444 - val_acc: 0.4957\n",
      "Epoch 93/100\n",
      "1148/1148 [==============================] - 9s 8ms/step - loss: 0.2750 - acc: 0.6561 - val_loss: 2.6486 - val_acc: 0.4951\n",
      "Epoch 94/100\n",
      "1148/1148 [==============================] - 11s 10ms/step - loss: 0.2715 - acc: 0.6565 - val_loss: 2.6505 - val_acc: 0.4951\n",
      "Epoch 95/100\n",
      "1148/1148 [==============================] - 11s 10ms/step - loss: 0.2681 - acc: 0.6574 - val_loss: 2.6539 - val_acc: 0.4957\n",
      "Epoch 96/100\n",
      "1148/1148 [==============================] - 10s 9ms/step - loss: 0.2651 - acc: 0.6572 - val_loss: 2.6575 - val_acc: 0.4957\n",
      "Epoch 97/100\n",
      "1148/1148 [==============================] - 10s 9ms/step - loss: 0.2615 - acc: 0.6582 - val_loss: 2.6590 - val_acc: 0.4959\n",
      "Epoch 98/100\n",
      "1148/1148 [==============================] - 9s 8ms/step - loss: 0.2583 - acc: 0.6586 - val_loss: 2.6629 - val_acc: 0.4954\n",
      "Epoch 99/100\n",
      "1148/1148 [==============================] - 10s 8ms/step - loss: 0.2551 - acc: 0.6593 - val_loss: 2.6676 - val_acc: 0.4962\n",
      "Epoch 100/100\n",
      "1148/1148 [==============================] - 9s 8ms/step - loss: 0.2522 - acc: 0.6601 - val_loss: 2.6674 - val_acc: 0.4954\n"
     ]
    }
   ],
   "source": [
    "z = np.zeros((len(ip_seq),LATENT_DIM))\n",
    "r = model.fit([ip_seq,z,z],one_hot_targets,validation_split=VALIDATION_SPLIT,batch_size=BATCH_SIZE,\n",
    "         epochs=100,verbose=1)"
   ]
  },
  {
   "cell_type": "code",
   "execution_count": 21,
   "metadata": {},
   "outputs": [
    {
     "data": {
      "image/png": "[encoded data removed]",
      "text/plain": [
       "<Figure size 432x288 with 1 Axes>"
      ]
     },
     "metadata": {},
     "output_type": "display_data"
    }
   ],
   "source": [
    "plt.plot(r.history['loss'], label='loss')\n",
    "plt.plot(r.history['val_loss'], label='val_loss')\n",
    "plt.legend()\n",
    "plt.show()"
   ]
  },
  {
   "cell_type": "code",
   "execution_count": 22,
   "metadata": {},
   "outputs": [],
   "source": [
    "input2 = Input(shape=(1,)) # we'll only input one word at a time\n",
    "x = embd_layer(input2)\n",
    "x, h, c = lstm(x, initial_state=[init_h, init_c]) # now we need states to feed back in\n",
    "output2 = dense(x)\n",
    "sampling_model = Model([input2, init_h, init_c], [output2, h, c])"
   ]
  },
  {
   "cell_type": "code",
   "execution_count": 23,
   "metadata": {},
   "outputs": [],
   "source": [
    "idx2word = {v:k for k, v in word2idx.items()}"
   ]
  },
  {
   "cell_type": "code",
   "execution_count": 24,
   "metadata": {},
   "outputs": [],
   "source": [
    "def sample_line():\n",
    "    # initial inputs\n",
    "    np_input = np.array([[ word2idx['<sos>'] ]])\n",
    "    h = np.zeros((1, LATENT_DIM))\n",
    "    c = np.zeros((1, LATENT_DIM))\n",
    "\n",
    "    # so we know when to quit\n",
    "    eos = word2idx['<eos>']\n",
    "\n",
    "    # store the output here\n",
    "    output_sentence = []\n",
    "\n",
    "    for _ in range(max_seq_len):\n",
    "        o, h, c = sampling_model.predict([np_input, h, c])\n",
    "\n",
    "        # print(\"o.shape:\", o.shape, o[0,0,:10])\n",
    "        # idx = np.argmax(o[0,0])\n",
    "        probs = o[0,0]\n",
    "        if np.argmax(probs) == 0:\n",
    "            print(\"wtf\")\n",
    "        probs[0] = 0\n",
    "        probs /= probs.sum()\n",
    "        idx = np.random.choice(len(probs), p=probs)\n",
    "        if idx == eos:\n",
    "            break\n",
    "\n",
    "        # accuulate output\n",
    "        output_sentence.append(idx2word.get(idx, '<WTF %s>' % idx))\n",
    "\n",
    "        # make the next input into model\n",
    "        np_input[0,0] = idx\n",
    "\n",
    "    return ' '.join(output_sentence)"
   ]
  },
  {
   "cell_type": "code",
   "execution_count": 25,
   "metadata": {},
   "outputs": [
    {
     "name": "stdout",
     "output_type": "stream",
     "text": [
      "<sos> it's poor, 'the she, let's dear, it's she, great, she, \"ile's\n",
      "<sos> 'you 'you i'm dear, everything, walls, great, ain't by by by\n",
      "<sos> (we harmless. great, 'cross 'cross great, the' 'cross 'cross thence thence\n",
      "<sos> stillgoing raining.' dear, dear, walls, walls, aren't great, granny, shouldn't shrill\n",
      "---generate another? [Y/n]---y\n",
      "<sos> 'you've waiting.' there's walls, spectre. she, 'cross great, \"ile's joe, dear,\n",
      "<sos> 'i won't shouldn't important, great, granny, we're- important, great, movement movement\n",
      "<sos> it's out!\" shouldn't great, skeleton. great, 'cross great, 'cross tunnel tunnel\n",
      "<sos> doesn't out!\" she, 'the walls, great, walls, heart. let's 'the street\n",
      "---generate another? [Y/n]---y\n",
      "<sos> i've it's 'the let's great, you're sprung fault mars mars mars\n",
      "<sos> don't raining.' 'as aren't great, she, 'the 'cross misting; important, important,\n",
      "<sos> 'four so- dear, listen. speaking: great, let's great, important, \"ile's said,\n",
      "<sos> let's won't 'it great, it's barb ears ears ears ears ears\n",
      "---generate another? [Y/n]---y\n",
      "<sos> 'you've here?\" let's we're- important, nausicaa, great, signals thicken thicken thicken\n",
      "<sos> i'll don't 'cross everything, great, aren't walls, pipe pipe fire cloud\n",
      "<sos> 'well it. important, aren't granny, listen. spectre. 'i 'cross lapish. great,\n",
      "<sos> 'yes, mother? misting; 'cross she, 'cross great, she, misting; said, mounted\n",
      "---generate another? [Y/n]---y\n",
      "<sos> let's harmless. it's she, let's let's walls, she, great, great, sake,\n",
      "<sos> 'no, it's robinson, important, great, song, 'no, listen. walls, joe, button,\n",
      "<sos> 'yes, 'huh, sake, let's great, great, fair. pipe pipe iron lantern\n",
      "<sos> toffile, couldn't misting; walls, 'cross great, let's walls, aren't great, joe,\n",
      "---generate another? [Y/n]---y\n",
      "<sos> 'as it's 'cross everything, everything, granny, 'i great, 'cross she, joe,\n",
      "<sos> yes, here?\" like: everything, important, great, walls, aren't 'cross aroused 'cross\n",
      "<sos> 'i bones?' 'the aren't great, it's everything, granny, 'cross device. \"ile's\n",
      "<sos> yes, it. !' shouldn't she, great, everything, walls, cider, poem. dissolved,\n",
      "---generate another? [Y/n]---n\n"
     ]
    }
   ],
   "source": [
    "while True:\n",
    "    for _ in range(4):\n",
    "        print(sample_line())\n",
    "    ans = input(\"---generate another? [Y/n]---\")\n",
    "    if ans and ans[0].lower().startswith('n'):\n",
    "        break"
   ]
  },
  {
   "cell_type": "code",
   "execution_count": null,
   "metadata": {},
   "outputs": [],
   "source": []
  }
 ],
 "metadata": {
  "kernelspec": {
   "display_name": "Python 3",
   "language": "python",
   "name": "python3"
  },
  "language_info": {
   "codemirror_mode": {
    "name": "ipython",
    "version": 3
   },
   "file_extension": ".py",
   "mimetype": "text/x-python",
   "name": "python",
   "nbconvert_exporter": "python",
   "pygments_lexer": "ipython3",
   "version": "3.6.5"
  }
 },
 "nbformat": 4,
 "nbformat_minor": 2
}
